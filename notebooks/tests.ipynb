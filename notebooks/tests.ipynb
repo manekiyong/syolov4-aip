{
 "cells": [
  {
   "cell_type": "code",
   "execution_count": 1,
   "metadata": {},
   "outputs": [],
   "source": [
    "import yaml"
   ]
  },
  {
   "cell_type": "code",
   "execution_count": 5,
   "metadata": {},
   "outputs": [],
   "source": [
    "with open('../src/data/bh_s3.yaml', 'r') as f:\n",
    "    data = yaml.safe_load(f)"
   ]
  },
  {
   "cell_type": "code",
   "execution_count": 7,
   "metadata": {},
   "outputs": [],
   "source": [
    "data['train']=\"Meow\""
   ]
  },
  {
   "cell_type": "code",
   "execution_count": 8,
   "metadata": {},
   "outputs": [
    {
     "data": {
      "text/plain": [
       "{'train': 'Meow',\n",
       " 'val': '/home/dh/Desktop/Dataset/Brainhack/val',\n",
       " 'test': '/home/dh/Desktop/Dataset/Brainhack/test',\n",
       " 'nc': 2,\n",
       " 'names': ['Fallen', 'Standing']}"
      ]
     },
     "execution_count": 8,
     "metadata": {},
     "output_type": "execute_result"
    }
   ],
   "source": [
    "data"
   ]
  },
  {
   "cell_type": "code",
   "execution_count": 11,
   "metadata": {},
   "outputs": [],
   "source": [
    "from clearml import Dataset\n",
    "import os"
   ]
  },
  {
   "cell_type": "code",
   "execution_count": 12,
   "metadata": {},
   "outputs": [
    {
     "name": "stdout",
     "output_type": "stream",
     "text": [
      "2022-06-09 16:34:53,665 - clearml.storage - INFO - Downloading: 5.00MB / 102.88MB @ 6.19MBs from s3://experiment-logging/datasets/yolov4/brainhack/val.240f9f89f7ee49799343fb39dd7bc5fe/artifacts/data/dataset.240f9f89f7ee49799343fb39dd7bc5fe.zip\n",
      "2022-06-09 16:34:54,123 - clearml.storage - INFO - Downloading: 10.00MB / 102.88MB @ 10.90MBs from s3://experiment-logging/datasets/yolov4/brainhack/val.240f9f89f7ee49799343fb39dd7bc5fe/artifacts/data/dataset.240f9f89f7ee49799343fb39dd7bc5fe.zip\n",
      "2022-06-09 16:34:54,642 - clearml.storage - INFO - Downloading: 15.00MB / 102.88MB @ 9.65MBs from s3://experiment-logging/datasets/yolov4/brainhack/val.240f9f89f7ee49799343fb39dd7bc5fe/artifacts/data/dataset.240f9f89f7ee49799343fb39dd7bc5fe.zip\n",
      "2022-06-09 16:34:55,093 - clearml.storage - INFO - Downloading: 20.00MB / 102.88MB @ 11.08MBs from s3://experiment-logging/datasets/yolov4/brainhack/val.240f9f89f7ee49799343fb39dd7bc5fe/artifacts/data/dataset.240f9f89f7ee49799343fb39dd7bc5fe.zip\n",
      "2022-06-09 16:34:55,649 - clearml.storage - INFO - Downloading: 25.00MB / 102.88MB @ 9.00MBs from s3://experiment-logging/datasets/yolov4/brainhack/val.240f9f89f7ee49799343fb39dd7bc5fe/artifacts/data/dataset.240f9f89f7ee49799343fb39dd7bc5fe.zip\n",
      "2022-06-09 16:34:56,093 - clearml.storage - INFO - Downloading: 30.00MB / 102.88MB @ 11.27MBs from s3://experiment-logging/datasets/yolov4/brainhack/val.240f9f89f7ee49799343fb39dd7bc5fe/artifacts/data/dataset.240f9f89f7ee49799343fb39dd7bc5fe.zip\n",
      "2022-06-09 16:34:56,570 - clearml.storage - INFO - Downloading: 35.00MB / 102.88MB @ 10.47MBs from s3://experiment-logging/datasets/yolov4/brainhack/val.240f9f89f7ee49799343fb39dd7bc5fe/artifacts/data/dataset.240f9f89f7ee49799343fb39dd7bc5fe.zip\n",
      "2022-06-09 16:34:57,035 - clearml.storage - INFO - Downloading: 40.00MB / 102.88MB @ 10.76MBs from s3://experiment-logging/datasets/yolov4/brainhack/val.240f9f89f7ee49799343fb39dd7bc5fe/artifacts/data/dataset.240f9f89f7ee49799343fb39dd7bc5fe.zip\n",
      "2022-06-09 16:34:57,488 - clearml.storage - INFO - Downloading: 45.00MB / 102.88MB @ 11.04MBs from s3://experiment-logging/datasets/yolov4/brainhack/val.240f9f89f7ee49799343fb39dd7bc5fe/artifacts/data/dataset.240f9f89f7ee49799343fb39dd7bc5fe.zip\n",
      "2022-06-09 16:34:57,963 - clearml.storage - INFO - Downloading: 50.00MB / 102.88MB @ 10.52MBs from s3://experiment-logging/datasets/yolov4/brainhack/val.240f9f89f7ee49799343fb39dd7bc5fe/artifacts/data/dataset.240f9f89f7ee49799343fb39dd7bc5fe.zip\n",
      "2022-06-09 16:34:58,407 - clearml.storage - INFO - Downloading: 55.00MB / 102.88MB @ 11.26MBs from s3://experiment-logging/datasets/yolov4/brainhack/val.240f9f89f7ee49799343fb39dd7bc5fe/artifacts/data/dataset.240f9f89f7ee49799343fb39dd7bc5fe.zip\n",
      "2022-06-09 16:34:58,937 - clearml.storage - INFO - Downloading: 60.00MB / 102.88MB @ 9.44MBs from s3://experiment-logging/datasets/yolov4/brainhack/val.240f9f89f7ee49799343fb39dd7bc5fe/artifacts/data/dataset.240f9f89f7ee49799343fb39dd7bc5fe.zip\n",
      "2022-06-09 16:34:59,376 - clearml.storage - INFO - Downloading: 65.00MB / 102.88MB @ 11.39MBs from s3://experiment-logging/datasets/yolov4/brainhack/val.240f9f89f7ee49799343fb39dd7bc5fe/artifacts/data/dataset.240f9f89f7ee49799343fb39dd7bc5fe.zip\n",
      "2022-06-09 16:34:59,832 - clearml.storage - INFO - Downloading: 70.00MB / 102.88MB @ 10.97MBs from s3://experiment-logging/datasets/yolov4/brainhack/val.240f9f89f7ee49799343fb39dd7bc5fe/artifacts/data/dataset.240f9f89f7ee49799343fb39dd7bc5fe.zip\n",
      "2022-06-09 16:35:00,312 - clearml.storage - INFO - Downloading: 75.00MB / 102.88MB @ 10.41MBs from s3://experiment-logging/datasets/yolov4/brainhack/val.240f9f89f7ee49799343fb39dd7bc5fe/artifacts/data/dataset.240f9f89f7ee49799343fb39dd7bc5fe.zip\n",
      "2022-06-09 16:35:00,830 - clearml.storage - INFO - Downloading: 80.00MB / 102.88MB @ 9.65MBs from s3://experiment-logging/datasets/yolov4/brainhack/val.240f9f89f7ee49799343fb39dd7bc5fe/artifacts/data/dataset.240f9f89f7ee49799343fb39dd7bc5fe.zip\n",
      "2022-06-09 16:35:01,313 - clearml.storage - INFO - Downloading: 85.00MB / 102.88MB @ 10.34MBs from s3://experiment-logging/datasets/yolov4/brainhack/val.240f9f89f7ee49799343fb39dd7bc5fe/artifacts/data/dataset.240f9f89f7ee49799343fb39dd7bc5fe.zip\n",
      "2022-06-09 16:35:01,739 - clearml.storage - INFO - Downloading: 90.00MB / 102.88MB @ 11.75MBs from s3://experiment-logging/datasets/yolov4/brainhack/val.240f9f89f7ee49799343fb39dd7bc5fe/artifacts/data/dataset.240f9f89f7ee49799343fb39dd7bc5fe.zip\n",
      "2022-06-09 16:35:02,178 - clearml.storage - INFO - Downloading: 95.13MB / 102.88MB @ 11.70MBs from s3://experiment-logging/datasets/yolov4/brainhack/val.240f9f89f7ee49799343fb39dd7bc5fe/artifacts/data/dataset.240f9f89f7ee49799343fb39dd7bc5fe.zip\n",
      "2022-06-09 16:35:02,667 - clearml.storage - INFO - Downloading: 100.13MB / 102.88MB @ 10.21MBs from s3://experiment-logging/datasets/yolov4/brainhack/val.240f9f89f7ee49799343fb39dd7bc5fe/artifacts/data/dataset.240f9f89f7ee49799343fb39dd7bc5fe.zip\n",
      "2022-06-09 16:35:03,076 - clearml.storage - INFO - Downloaded 102.88 MB successfully from s3://experiment-logging/datasets/yolov4/brainhack/val.240f9f89f7ee49799343fb39dd7bc5fe/artifacts/data/dataset.240f9f89f7ee49799343fb39dd7bc5fe.zip , saved to /home/dh/.clearml/cache/storage_manager/datasets/21769f42df1c3c6f6d9f685828ec6e7d.dataset.240f9f89f7ee49799343fb39dd7bc5fe.zip\n"
     ]
    }
   ],
   "source": [
    "train_path = Dataset.get(\n",
    "    dataset_name='train', \n",
    "    dataset_project='datasets/yolov4/brainhack'\n",
    ").get_local_copy()\n",
    "train_path = os.path.join(train_path, '')\n",
    "val_path = Dataset.get(\n",
    "    dataset_name='val', \n",
    "    dataset_project='datasets/yolov4/brainhack'\n",
    ").get_local_copy()\n",
    "val_path = os.path.join(val_path, '')\n",
    "test_path = Dataset.get(\n",
    "    dataset_name='test', \n",
    "    dataset_project='datasets/yolov4/brainhack'\n",
    ").get_local_copy()\n",
    "test_path = os.path.join(test_path, '')"
   ]
  },
  {
   "cell_type": "code",
   "execution_count": 13,
   "metadata": {},
   "outputs": [
    {
     "data": {
      "text/plain": [
       "'/home/dh/.clearml/cache/storage_manager/datasets/ds_240f9f89f7ee49799343fb39dd7bc5fe/'"
      ]
     },
     "execution_count": 13,
     "metadata": {},
     "output_type": "execute_result"
    }
   ],
   "source": [
    "dataset_path"
   ]
  },
  {
   "cell_type": "code",
   "execution_count": 15,
   "metadata": {},
   "outputs": [
    {
     "name": "stdout",
     "output_type": "stream",
     "text": [
      "1a2blh7irrcUq9N6tQzbD3rSbp.jpg\t2kOSd7vdTOvCx5Y3wWHHqwVVxz.jpg\n",
      "1a2blh7irrcUq9N6tQzbD3rSbp.txt\t2kOSd7vdTOvCx5Y3wWHHqwVVxz.txt\n",
      "1a9JM8kIqoQ0jzRkx36DC1fW4F.jpg\t2l1o7txnWJPyR7cIMeATZXVTLN.jpg\n",
      "1a9JM8kIqoQ0jzRkx36DC1fW4F.txt\t2l1o7txnWJPyR7cIMeATZXVTLN.txt\n",
      "1aRnj4Ld5DCaUODyXslpqFmc0A.jpg\t2l3Muot3D2Nu19gZjT2FgcsGgC.jpg\n",
      "1aRnj4Ld5DCaUODyXslpqFmc0A.txt\t2l3Muot3D2Nu19gZjT2FgcsGgC.txt\n",
      "1cdwqrfUE8BwUFhTS0VypI80m8.jpg\t2LOcP3eqLfjfRhQhNp1Hbeajb6.jpg\n",
      "1cdwqrfUE8BwUFhTS0VypI80m8.txt\t2LOcP3eqLfjfRhQhNp1Hbeajb6.txt\n",
      "1dgZPbsTiPSn0BNb4CsH8Yi9Pw.jpg\t2lvMW00bWPdBuXRzjzelLMlQTj.jpg\n",
      "1dgZPbsTiPSn0BNb4CsH8Yi9Pw.txt\t2lvMW00bWPdBuXRzjzelLMlQTj.txt\n",
      "1dhO4PMVHrlCAmYKyWmNur3y3n.jpg\t2mPaxE9qy2KwXAnvWeHRgX3WxT.jpg\n",
      "1dhO4PMVHrlCAmYKyWmNur3y3n.txt\t2mPaxE9qy2KwXAnvWeHRgX3WxT.txt\n",
      "1dw0uUDWAkxM816h1QkhXcRGSe.jpg\t2Mqh5CRpzWju40ZQ2Tjs7gNll5.jpg\n",
      "1dw0uUDWAkxM816h1QkhXcRGSe.txt\t2Mqh5CRpzWju40ZQ2Tjs7gNll5.txt\n",
      "1e9auu8eTDGCfLgZ0EpjI0S6F0.jpg\t2mRA79pUxRtRx1DEe3MMrUoPJE.jpg\n",
      "1e9auu8eTDGCfLgZ0EpjI0S6F0.txt\t2mRA79pUxRtRx1DEe3MMrUoPJE.txt\n",
      "1ednCqnKv2fokinbfpF2KB69S3.jpg\t2NqsO0BmIAXUuuHGrJOOxSZKso.jpg\n",
      "1ednCqnKv2fokinbfpF2KB69S3.txt\t2NqsO0BmIAXUuuHGrJOOxSZKso.txt\n",
      "1fCGy1Dc5eW35YDiPlPddOvAOb.jpg\t2nU6ZneN8DNz5wToyHzgRjdg8w.jpg\n",
      "1fCGy1Dc5eW35YDiPlPddOvAOb.txt\t2nU6ZneN8DNz5wToyHzgRjdg8w.txt\n",
      "1fOKdRFyLjR1pgSosLorakvqv3.jpg\t2PEkRObpDBw8L0PK9644TsbSnQ.jpg\n",
      "1fOKdRFyLjR1pgSosLorakvqv3.txt\t2PEkRObpDBw8L0PK9644TsbSnQ.txt\n",
      "1fZWV2FVOzOVRxxF3t1IM2sQsZ.jpg\t2PgoReidNKkjap8IbCmRo7YF2V.jpg\n",
      "1fZWV2FVOzOVRxxF3t1IM2sQsZ.txt\t2PgoReidNKkjap8IbCmRo7YF2V.txt\n",
      "1gYqjztvthpC7U5X7fPcG4LhwN.jpg\t2pT5PAp9e2UtYjs9jALvQSZvTS.jpg\n",
      "1gYqjztvthpC7U5X7fPcG4LhwN.txt\t2pT5PAp9e2UtYjs9jALvQSZvTS.txt\n",
      "1j2mVw0cg54yhBVekq0OMA4SgR.jpg\t2pUQ6LKRPOgIupQB5fR765bd8x.jpg\n",
      "1j2mVw0cg54yhBVekq0OMA4SgR.txt\t2pUQ6LKRPOgIupQB5fR765bd8x.txt\n",
      "1j6UsVSskYtof76iPBsyiFpZhC.jpg\t2qhvDeU9ZXsug5LRuJayYmfaSe.jpg\n",
      "1j6UsVSskYtof76iPBsyiFpZhC.txt\t2qhvDeU9ZXsug5LRuJayYmfaSe.txt\n",
      "1kKtFtXgBl42eMo7V01oQahd0B.jpg\t2qj4fFu5pHSXxjBcCRHeUGGuIz.jpg\n",
      "1kKtFtXgBl42eMo7V01oQahd0B.txt\t2qj4fFu5pHSXxjBcCRHeUGGuIz.txt\n",
      "1o50U317j5jes4GyNfQmLehxfi.jpg\t2qzGprcogacKUDOdtXnXRXnIjn.jpg\n",
      "1o50U317j5jes4GyNfQmLehxfi.txt\t2qzGprcogacKUDOdtXnXRXnIjn.txt\n",
      "1o78G59ZYACOWoPonJgKuWqVdx.jpg\t2raXy7xdKBMGWjRbxcBezpye22.jpg\n",
      "1o78G59ZYACOWoPonJgKuWqVdx.txt\t2raXy7xdKBMGWjRbxcBezpye22.txt\n",
      "1oV24t4Kh3Eh5IaFsev8g7d0ee.jpg\t2RDhpVf2JfLbdNR8lZB12iiasq.jpg\n",
      "1oV24t4Kh3Eh5IaFsev8g7d0ee.txt\t2RDhpVf2JfLbdNR8lZB12iiasq.txt\n",
      "1ppNQYdv4wchSab21LjQjUDj0f.jpg\t2rJQURdVXkOSErokyprh4z72dP.jpg\n",
      "1ppNQYdv4wchSab21LjQjUDj0f.txt\t2rJQURdVXkOSErokyprh4z72dP.txt\n",
      "1pyhgH4UDC1nr4Y5BPi3APqLxA.jpg\t2RPPNHzyE6rK0gpCj6riih6PMA.jpg\n",
      "1pyhgH4UDC1nr4Y5BPi3APqLxA.txt\t2RPPNHzyE6rK0gpCj6riih6PMA.txt\n",
      "1qE2oEFX6akwtzkXKiIrZN1RFX.jpg\t2rrEt9SDE5sKU8NDhXXmeFeAMs.jpg\n",
      "1qE2oEFX6akwtzkXKiIrZN1RFX.txt\t2rrEt9SDE5sKU8NDhXXmeFeAMs.txt\n",
      "1qH2qP1VY9OA6TjFMVfNbN6STu.jpg\t2S2CZCV6eI0aJNpUs60OJyFp0g.jpg\n",
      "1qH2qP1VY9OA6TjFMVfNbN6STu.txt\t2S2CZCV6eI0aJNpUs60OJyFp0g.txt\n",
      "1qnR0UcML9yhPAUA5EE7ZFmvEO.jpg\t2SkthVFbvG0pu294NsQqAC17Yo.jpg\n",
      "1qnR0UcML9yhPAUA5EE7ZFmvEO.txt\t2SkthVFbvG0pu294NsQqAC17Yo.txt\n",
      "1qptJ9PuzkVMURIuWX4y6MgfCY.jpg\t2SLXBi6RcvSXjJJGOtExKd6fSS.jpg\n",
      "1qptJ9PuzkVMURIuWX4y6MgfCY.txt\t2SLXBi6RcvSXjJJGOtExKd6fSS.txt\n",
      "1qVMT74vUoz0cOrixl2YXpNFWt.jpg\t2sPnksmGsC46dytWedBeTHTVIe.jpg\n",
      "1qVMT74vUoz0cOrixl2YXpNFWt.txt\t2sPnksmGsC46dytWedBeTHTVIe.txt\n",
      "1rC7c8csxMO0IGGbh0cVqd661R.jpg\t2sw4oUbsMBRTaxEWHX5sNLvpxq.jpg\n",
      "1rC7c8csxMO0IGGbh0cVqd661R.txt\t2sw4oUbsMBRTaxEWHX5sNLvpxq.txt\n",
      "1sdfyA5FrtiEhKzH613ZIfqPA6.jpg\t2tnQtNFuTUTs9f2KUDr24hJAmk.jpg\n",
      "1sdfyA5FrtiEhKzH613ZIfqPA6.txt\t2tnQtNFuTUTs9f2KUDr24hJAmk.txt\n",
      "1sNbUavOt8JzIYJznnz2Gtp4IE.jpg\t2TSON3AJqcjd7Q6ylQKHyVgA47.jpg\n",
      "1sNbUavOt8JzIYJznnz2Gtp4IE.txt\t2TSON3AJqcjd7Q6ylQKHyVgA47.txt\n",
      "1tbK8tRyZ9r9oytpRGpFq5dY44.jpg\t2U3GtGM4IZOmnhgTyt0R3RUg8j.jpg\n",
      "1tbK8tRyZ9r9oytpRGpFq5dY44.txt\t2U3GtGM4IZOmnhgTyt0R3RUg8j.txt\n",
      "1unwBYXVxTgXhQ7P1IhhyWbU9R.jpg\t2U4SgUP2oFkYIKoEBC4ZJ8mkK0.jpg\n",
      "1unwBYXVxTgXhQ7P1IhhyWbU9R.txt\t2U4SgUP2oFkYIKoEBC4ZJ8mkK0.txt\n",
      "1uO2KtGHRrDVUDWUhUTaw38e2W.jpg\t2UgWoJaJsnMxsHBoVCT9xbNVu2.jpg\n",
      "1uO2KtGHRrDVUDWUhUTaw38e2W.txt\t2UgWoJaJsnMxsHBoVCT9xbNVu2.txt\n",
      "1uSb6VKq9iUId4eYczdeym2v76.jpg\t2uysHiB5XTKhJ8j1qfsXCm7jsx.jpg\n",
      "1uSb6VKq9iUId4eYczdeym2v76.txt\t2uysHiB5XTKhJ8j1qfsXCm7jsx.txt\n",
      "1wek8myhYd432qKZvXiOKUIjUV.jpg\t2v2S6H2YQtj4Ss6AzwHqUfRmVZ.jpg\n",
      "1wek8myhYd432qKZvXiOKUIjUV.txt\t2v2S6H2YQtj4Ss6AzwHqUfRmVZ.txt\n",
      "1wShQC1EoXVWTv5xFt2dX4bP9B.jpg\t2vFD6yuVjALMBoELY42MmDqnGQ.jpg\n",
      "1wShQC1EoXVWTv5xFt2dX4bP9B.txt\t2vFD6yuVjALMBoELY42MmDqnGQ.txt\n",
      "20IBsFzves3LRj0wYBiE5t28p9.jpg\t2VSgTMqwdx3rSlEMFoPIr5uWAE.jpg\n",
      "20IBsFzves3LRj0wYBiE5t28p9.txt\t2VSgTMqwdx3rSlEMFoPIr5uWAE.txt\n",
      "20iqdbcO2qIu1nILAOXBk5cOCL.jpg\t2w1xH4oxj1leA26tSo57zRbWKF.jpg\n",
      "20iqdbcO2qIu1nILAOXBk5cOCL.txt\t2w1xH4oxj1leA26tSo57zRbWKF.txt\n",
      "20vI11h9lvXNYYZ3xc8nv0WQXO.jpg\t2W71sNLiRsvMs9p2s8MX2OKgls.jpg\n",
      "20vI11h9lvXNYYZ3xc8nv0WQXO.txt\t2W71sNLiRsvMs9p2s8MX2OKgls.txt\n",
      "21AFKql2BLTK8LvbYNIhEnxI9k.jpg\t2w8Y352xKTqRUjYRgQwewOmkTy.jpg\n",
      "21AFKql2BLTK8LvbYNIhEnxI9k.txt\t2w8Y352xKTqRUjYRgQwewOmkTy.txt\n",
      "22K2F04iCmKArfXhMqdxmQf4JP.jpg\t2WhYnK2LSa9dbaR52ChBRCmFOh.jpg\n",
      "22K2F04iCmKArfXhMqdxmQf4JP.txt\t2WhYnK2LSa9dbaR52ChBRCmFOh.txt\n",
      "23Ke48LWxrgk8Vvd7ZlccCzSJS.jpg\t2WToA37hpZy4U96oXaExEShwIa.jpg\n",
      "23Ke48LWxrgk8Vvd7ZlccCzSJS.txt\t2WToA37hpZy4U96oXaExEShwIa.txt\n",
      "23R98aBOqIiV6a1PuTFm2MLx5z.jpg\t2X5JHVOUsZmGNLBgCY5Q5uP3Ek.jpg\n",
      "23R98aBOqIiV6a1PuTFm2MLx5z.txt\t2X5JHVOUsZmGNLBgCY5Q5uP3Ek.txt\n",
      "24fVAz0d3FsMLhQRKtel2y6bRh.jpg\t2X5UZd1s6lMpDBNMqVoIOWKPky.jpg\n",
      "24fVAz0d3FsMLhQRKtel2y6bRh.txt\t2X5UZd1s6lMpDBNMqVoIOWKPky.txt\n",
      "24SvfhAiClsM4WX1MfYz0hq5bL.jpg\t2X8Ay7gkPK1VYa9jqQdAOMaLxR.jpg\n",
      "24SvfhAiClsM4WX1MfYz0hq5bL.txt\t2X8Ay7gkPK1VYa9jqQdAOMaLxR.txt\n",
      "26oBT3ttOATtwF42e6WKRwGYmN.jpg\t2XQy8I5VvpZgobyF8QHsbLEkRY.jpg\n",
      "26oBT3ttOATtwF42e6WKRwGYmN.txt\t2XQy8I5VvpZgobyF8QHsbLEkRY.txt\n",
      "26p57o1YWzoCFlSnmuiPKUGifr.jpg\t2xul6HWiMrRN3r80gPsJ43kRP1.jpg\n",
      "26p57o1YWzoCFlSnmuiPKUGifr.txt\t2xul6HWiMrRN3r80gPsJ43kRP1.txt\n",
      "27ys3QvvDbCs0fwVJWPFlDVAU6.jpg\t2Xuqyf9mYss0rKu1CTDYXx3egz.jpg\n",
      "27ys3QvvDbCs0fwVJWPFlDVAU6.txt\t2Xuqyf9mYss0rKu1CTDYXx3egz.txt\n",
      "28bpPAoXGGvDtA3hjmIHQ3qHHS.jpg\t2xVdv5o0vgbrifhL70GwrXU0pA.jpg\n",
      "28bpPAoXGGvDtA3hjmIHQ3qHHS.txt\t2xVdv5o0vgbrifhL70GwrXU0pA.txt\n",
      "28n08axual1pPNIg40xcnBNtRe.jpg\t2XxoZSt4CNNcYgtWXKIHfXR28I.jpg\n",
      "28n08axual1pPNIg40xcnBNtRe.txt\t2XxoZSt4CNNcYgtWXKIHfXR28I.txt\n",
      "29emsHZdqRfzHyjqGB1MSZQj5f.jpg\t2y0bPfYBHzXTaAVk9XW5kRqyyw.jpg\n",
      "29emsHZdqRfzHyjqGB1MSZQj5f.txt\t2y0bPfYBHzXTaAVk9XW5kRqyyw.txt\n",
      "2a2RK5z83lqbLlXsH5bHx1mg3k.jpg\t2z0i6fMdSG7UamzLvo9HYAbWiJ.jpg\n",
      "2a2RK5z83lqbLlXsH5bHx1mg3k.txt\t2z0i6fMdSG7UamzLvo9HYAbWiJ.txt\n",
      "2AD3HbpqwCkiFU3Bc20iy4XTEX.jpg\t2zIKSwA7jhnti8HQhWvx0NCm6P.jpg\n",
      "2AD3HbpqwCkiFU3Bc20iy4XTEX.txt\t2zIKSwA7jhnti8HQhWvx0NCm6P.txt\n",
      "2aPx6BZT8PdXKEs4m6ERIMvkPr.jpg\t2ZQXYMEogWckuhC7Ftl8QHi190.jpg\n",
      "2aPx6BZT8PdXKEs4m6ERIMvkPr.txt\t2ZQXYMEogWckuhC7Ftl8QHi190.txt\n",
      "2aYijfSKAPkqm45doHRYOyblpx.jpg\t2zV27HiH3qVw88mslfrMyL1438.jpg\n",
      "2aYijfSKAPkqm45doHRYOyblpx.txt\t2zV27HiH3qVw88mslfrMyL1438.txt\n",
      "2Bm1XIUBcLBgPLT1M4WqtFuGLt.jpg\t303AFJyaMQM8spCv2pZdFmlx3F.jpg\n",
      "2Bm1XIUBcLBgPLT1M4WqtFuGLt.txt\t303AFJyaMQM8spCv2pZdFmlx3F.txt\n",
      "2BN1W17S5jAHE4KQnIdG1M63pI.jpg\t30k1DWc1lDt907cusSQIliPB0u.jpg\n",
      "2BN1W17S5jAHE4KQnIdG1M63pI.txt\t30k1DWc1lDt907cusSQIliPB0u.txt\n",
      "2cawKurZbe5DdGy2Lk1FugrGam.jpg\t30RRVlDWGwOJ2TX850o7dMgJex.jpg\n",
      "2cawKurZbe5DdGy2Lk1FugrGam.txt\t30RRVlDWGwOJ2TX850o7dMgJex.txt\n",
      "2cQ6T044WI43G6A9dYRDPLd7M3.jpg\t31F0w0OPD1dolD9h2pLURCZg99.jpg\n",
      "2cQ6T044WI43G6A9dYRDPLd7M3.txt\t31F0w0OPD1dolD9h2pLURCZg99.txt\n",
      "2crxOe4Qoc9XaGIQRH39o5R08y.jpg\t31gqtz9P1vkihas9Y2GZ5xvEUs.jpg\n",
      "2crxOe4Qoc9XaGIQRH39o5R08y.txt\t31gqtz9P1vkihas9Y2GZ5xvEUs.txt\n",
      "2DOZss3RAlvQrcTvOEeBq2juVg.jpg\t31j0abpqzIHzHLdJT0BjOEwWNY.jpg\n",
      "2DOZss3RAlvQrcTvOEeBq2juVg.txt\t31j0abpqzIHzHLdJT0BjOEwWNY.txt\n",
      "2Es9TmdsDhI5qMwJepkZvYCtPv.jpg\t31L4Tz8Fll4CskHuuKGPBUZqey.jpg\n",
      "2Es9TmdsDhI5qMwJepkZvYCtPv.txt\t31L4Tz8Fll4CskHuuKGPBUZqey.txt\n",
      "2F4sHEemNAJGKtwjRTIqk9Ubzi.jpg\t320varSnpPZvml5uO2Yl6UtwgU.jpg\n",
      "2F4sHEemNAJGKtwjRTIqk9Ubzi.txt\t320varSnpPZvml5uO2Yl6UtwgU.txt\n",
      "2fiGdSMtSnKrjAqFHXjfSXk5Rq.jpg\t33Amj3qqACkdvV15lmQIufhIuu.jpg\n",
      "2fiGdSMtSnKrjAqFHXjfSXk5Rq.txt\t33Amj3qqACkdvV15lmQIufhIuu.txt\n",
      "2Fl9N8BIQ5ojNfOUR4um9zReYl.jpg\t33zlG9kJ1NWvXBkKWyPYsWBt4K.jpg\n",
      "2Fl9N8BIQ5ojNfOUR4um9zReYl.txt\t33zlG9kJ1NWvXBkKWyPYsWBt4K.txt\n",
      "2fVKN3A5alh0jI2whygzeXT7gQ.jpg\t34GTGakcMaH2gYFB4H33HSrkHU.jpg\n",
      "2fVKN3A5alh0jI2whygzeXT7gQ.txt\t34GTGakcMaH2gYFB4H33HSrkHU.txt\n",
      "2G6hMJYvnlbFENZtA3ZahPtFvm.jpg\t34iInxRyaS58kZWSunEl4EBJ6Q.jpg\n",
      "2G6hMJYvnlbFENZtA3ZahPtFvm.txt\t34iInxRyaS58kZWSunEl4EBJ6Q.txt\n",
      "2GMrhXS9myGAaHdwR70iGjOuZ8.jpg\t34lTlK5GAmRqYlaF5CKLArekYw.jpg\n",
      "2GMrhXS9myGAaHdwR70iGjOuZ8.txt\t34lTlK5GAmRqYlaF5CKLArekYw.txt\n",
      "2HGswypZm1qn9bh42upNOHplBF.jpg\t37QPrOsKXCOLWdWT3KCWIkSa3c.jpg\n",
      "2HGswypZm1qn9bh42upNOHplBF.txt\t37QPrOsKXCOLWdWT3KCWIkSa3c.txt\n",
      "2iO4BeP8Ug2Fu7Rh4YayvXupsl.jpg\t37VeBQFASjEyghy5i4tmLwijCR.jpg\n",
      "2iO4BeP8Ug2Fu7Rh4YayvXupsl.txt\t37VeBQFASjEyghy5i4tmLwijCR.txt\n",
      "2JHrmch95a3why8jZETfGwtExm.jpg\t383c57U2F7DK1DEwa3a2HNNpsO.jpg\n",
      "2JHrmch95a3why8jZETfGwtExm.txt\t383c57U2F7DK1DEwa3a2HNNpsO.txt\n",
      "2Jil6sf44OIYrbnw7GfapFXZte.jpg\t396FIEQ8ogsCyRBKICkUeyaDfO.jpg\n",
      "2Jil6sf44OIYrbnw7GfapFXZte.txt\t396FIEQ8ogsCyRBKICkUeyaDfO.txt\n",
      "2jjpmmkp4w3foumqxHzy0GXyaQ.jpg\t399Ynt1pR0sAu8wYWzqkH6W4Gt.jpg\n",
      "2jjpmmkp4w3foumqxHzy0GXyaQ.txt\t399Ynt1pR0sAu8wYWzqkH6W4Gt.txt\n",
      "2JtAI9QKNTsKGlZuRFBRggCpYy.jpg\t39Ailju5j8UzVRNmbFW3RoD2pl.jpg\n",
      "2JtAI9QKNTsKGlZuRFBRggCpYy.txt\t39Ailju5j8UzVRNmbFW3RoD2pl.txt\n",
      "2kNcqxfHobE5TkN5gnJ3rerPR9.jpg\t39Y0CsAqoYYM9myyEXFxk6JyNz.jpg\n",
      "2kNcqxfHobE5TkN5gnJ3rerPR9.txt\t39Y0CsAqoYYM9myyEXFxk6JyNz.txt\n",
      "2Ko095tge69PP4aiMiH542DL26.jpg\t3Ao3pPLQ4R2wLFQ5TwizQVdLLK.jpg\n",
      "2Ko095tge69PP4aiMiH542DL26.txt\t3Ao3pPLQ4R2wLFQ5TwizQVdLLK.txt\n"
     ]
    }
   ],
   "source": [
    "!ls $dataset_path"
   ]
  },
  {
   "cell_type": "code",
   "execution_count": 29,
   "metadata": {},
   "outputs": [],
   "source": [
    "temp = 'test.yaml'\n",
    "new_file_name = temp[:-5]+\"_m.yaml\""
   ]
  },
  {
   "cell_type": "code",
   "execution_count": 27,
   "metadata": {},
   "outputs": [
    {
     "data": {
      "text/plain": [
       "['test']"
      ]
     },
     "execution_count": 27,
     "metadata": {},
     "output_type": "execute_result"
    }
   ],
   "source": [
    "temp.split('.')[:-1]"
   ]
  },
  {
   "cell_type": "code",
   "execution_count": 30,
   "metadata": {},
   "outputs": [
    {
     "data": {
      "text/plain": [
       "'test_m.yaml'"
      ]
     },
     "execution_count": 30,
     "metadata": {},
     "output_type": "execute_result"
    }
   ],
   "source": [
    "new_file_name"
   ]
  },
  {
   "cell_type": "code",
   "execution_count": 2,
   "metadata": {},
   "outputs": [],
   "source": [
    "import argparse"
   ]
  },
  {
   "cell_type": "code",
   "execution_count": 3,
   "metadata": {},
   "outputs": [
    {
     "data": {
      "text/plain": [
       "_StoreAction(option_strings=['--logdir'], dest='logdir', nargs=None, const=None, default='runs/', type=<class 'str'>, choices=None, help='logging directory', metavar=None)"
      ]
     },
     "execution_count": 3,
     "metadata": {},
     "output_type": "execute_result"
    }
   ],
   "source": [
    "    parser = argparse.ArgumentParser()\n",
    "    parser.add_argument('--weights', type=str, default='yolov4-p5.pt', help='initial weights path')\n",
    "    parser.add_argument('--cfg', type=str, default='', help='model.yaml path')\n",
    "    parser.add_argument('--data', type=str, default='data/coco128.yaml', help='data.yaml path')\n",
    "    parser.add_argument('--hyp', type=str, default='', help='hyperparameters path, i.e. data/hyp.scratch.yaml')\n",
    "    parser.add_argument('--epochs', type=int, default=300)\n",
    "    parser.add_argument('--batch-size', type=int, default=16, help='total batch size for all GPUs')\n",
    "    parser.add_argument('--img-size', nargs='+', type=int, default=[640, 640], help='train,test sizes')\n",
    "    parser.add_argument('--rect', action='store_true', help='rectangular training')\n",
    "    parser.add_argument('--resume', nargs='?', const='get_last', default=False,\n",
    "                        help='resume from given path/last.pt, or most recent run if blank')\n",
    "    parser.add_argument('--nosave', action='store_true', help='only save final checkpoint')\n",
    "    parser.add_argument('--notest', action='store_true', help='only test final epoch')\n",
    "    parser.add_argument('--noautoanchor', action='store_true', help='disable autoanchor check')\n",
    "    parser.add_argument('--evolve', action='store_true', help='evolve hyperparameters')\n",
    "    parser.add_argument('--bucket', type=str, default='', help='gsutil bucket')\n",
    "    parser.add_argument('--cache-images', action='store_true', help='cache images for faster training')\n",
    "    parser.add_argument('--name', default='', help='renames results.txt to results_name.txt if supplied')\n",
    "    parser.add_argument('--device', default='', help='cuda device, i.e. 0 or 0,1,2,3 or cpu')\n",
    "    parser.add_argument('--multi-scale', action='store_true', help='vary img-size +/- 50%%')\n",
    "    parser.add_argument('--single-cls', action='store_true', help='train as single-class dataset')\n",
    "    parser.add_argument('--adam', action='store_true', help='use torch.optim.Adam() optimizer')\n",
    "    parser.add_argument('--sync-bn', action='store_true', help='use SyncBatchNorm, only available in DDP mode')\n",
    "    parser.add_argument('--local_rank', type=int, default=-1, help='DDP parameter, do not modify')\n",
    "    parser.add_argument('--logdir', type=str, default='runs/', help='logging directory')"
   ]
  },
  {
   "cell_type": "code",
   "execution_count": 4,
   "metadata": {},
   "outputs": [],
   "source": [
    "opt = parser.parse_args(args=[])"
   ]
  },
  {
   "cell_type": "code",
   "execution_count": 9,
   "metadata": {},
   "outputs": [],
   "source": [
    "import itertools\n",
    "\n",
    "output_dict = dict(itertools.islice(vars(opt).items(), 3))\n",
    "# vars(opt)"
   ]
  },
  {
   "cell_type": "code",
   "execution_count": 7,
   "metadata": {},
   "outputs": [
    {
     "data": {
      "text/plain": [
       "{'weights': 'yolov4-p5.pt', 'cfg': '', 'data': 'data/coco128.yaml'}"
      ]
     },
     "execution_count": 7,
     "metadata": {},
     "output_type": "execute_result"
    }
   ],
   "source": [
    "output_dict\n"
   ]
  },
  {
   "cell_type": "code",
   "execution_count": 6,
   "metadata": {},
   "outputs": [
    {
     "data": {
      "text/plain": [
       "{'weights': 'yolov4-p5.pt',\n",
       " 'cfg': '',\n",
       " 'data': 'data/coco128.yaml',\n",
       " 'hyp': '',\n",
       " 'epochs': 300,\n",
       " 'batch_size': 16,\n",
       " 'img_size': [640, 640],\n",
       " 'rect': False,\n",
       " 'resume': False,\n",
       " 'nosave': False,\n",
       " 'notest': False,\n",
       " 'noautoanchor': False,\n",
       " 'evolve': False,\n",
       " 'bucket': '',\n",
       " 'cache_images': False,\n",
       " 'name': '',\n",
       " 'device': '',\n",
       " 'multi_scale': False,\n",
       " 'single_cls': False,\n",
       " 'adam': False,\n",
       " 'sync_bn': False,\n",
       " 'local_rank': -1,\n",
       " 'logdir': 'runs/'}"
      ]
     },
     "execution_count": 6,
     "metadata": {},
     "output_type": "execute_result"
    }
   ],
   "source": [
    "vars(opt)\n"
   ]
  },
  {
   "cell_type": "code",
   "execution_count": 9,
   "metadata": {},
   "outputs": [],
   "source": [
    "args_list = [x for x in zip(vars(opt)]"
   ]
  },
  {
   "cell_type": "code",
   "execution_count": 15,
   "metadata": {},
   "outputs": [],
   "source": [
    "args_list=[]\n",
    "for x in vars(opt):\n",
    "    args_list.append('--'+x)\n",
    "    args_list.append(vars(opt)[x])"
   ]
  },
  {
   "cell_type": "code",
   "execution_count": 16,
   "metadata": {},
   "outputs": [
    {
     "data": {
      "text/plain": [
       "['--weights',\n",
       " 'yolov4-p5.pt',\n",
       " '--cfg',\n",
       " '',\n",
       " '--data',\n",
       " 'data/coco128.yaml',\n",
       " '--hyp',\n",
       " '',\n",
       " '--epochs',\n",
       " 300,\n",
       " '--batch_size',\n",
       " 16,\n",
       " '--img_size',\n",
       " [640, 640],\n",
       " '--rect',\n",
       " False,\n",
       " '--resume',\n",
       " False,\n",
       " '--nosave',\n",
       " False,\n",
       " '--notest',\n",
       " False,\n",
       " '--noautoanchor',\n",
       " False,\n",
       " '--evolve',\n",
       " False,\n",
       " '--bucket',\n",
       " '',\n",
       " '--cache_images',\n",
       " False,\n",
       " '--name',\n",
       " '',\n",
       " '--device',\n",
       " '',\n",
       " '--multi_scale',\n",
       " False,\n",
       " '--single_cls',\n",
       " False,\n",
       " '--adam',\n",
       " False,\n",
       " '--sync_bn',\n",
       " False,\n",
       " '--local_rank',\n",
       " -1,\n",
       " '--logdir',\n",
       " 'runs/']"
      ]
     },
     "execution_count": 16,
     "metadata": {},
     "output_type": "execute_result"
    }
   ],
   "source": [
    "args_list"
   ]
  },
  {
   "cell_type": "code",
   "execution_count": null,
   "metadata": {},
   "outputs": [],
   "source": []
  }
 ],
 "metadata": {
  "interpreter": {
   "hash": "ae7e6e1438180ea3a867e3d243fa2d2b8f371f89cf9c7d69473d39b16928ad93"
  },
  "kernelspec": {
   "display_name": "Python 3.9.12 ('yolo-wky')",
   "language": "python",
   "name": "python3"
  },
  "language_info": {
   "codemirror_mode": {
    "name": "ipython",
    "version": 3
   },
   "file_extension": ".py",
   "mimetype": "text/x-python",
   "name": "python",
   "nbconvert_exporter": "python",
   "pygments_lexer": "ipython3",
   "version": "3.9.12"
  },
  "orig_nbformat": 4
 },
 "nbformat": 4,
 "nbformat_minor": 2
}
